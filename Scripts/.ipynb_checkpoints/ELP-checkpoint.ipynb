{
 "cells": [
  {
   "cell_type": "markdown",
   "metadata": {},
   "source": [
    "# Projeto do Autotransformador"
   ]
  },
  {
   "cell_type": "code",
   "execution_count": 126,
   "metadata": {},
   "outputs": [],
   "source": [
    "#%matplotlib qt\n",
    "%run function.py\n",
    "%matplotlib inline"
   ]
  },
  {
   "cell_type": "code",
   "execution_count": 138,
   "metadata": {},
   "outputs": [
    {
     "name": "stdout",
     "output_type": "stream",
     "text": [
      "Ief (trafo) = 2.517322 A\n",
      "Aw.Ae = 0.158791 cm²\n",
      "Numero de espiras = 7.000000 espiras\n",
      "Diametro do fio = 0.075000 cm\n",
      "Numero de fios = 2.000000 fios\n",
      "Fator de ocupação = 14.05%\n",
      "Tamanho do fio = 0.879646 m\n"
     ]
    }
   ],
   "source": [
    "# Valores de projeto #\n",
    "Vo = 5        # V\n",
    "Vi = 24       # V\n",
    "Io = 5        # A\n",
    "Po = 25       # W\n",
    "fs = 20e3     # Hz\n",
    "D = Vo/Vi\n",
    "T = 1/fs\n",
    "L = 35.7e-6\n",
    "\n",
    "kt = 1\n",
    "kw = 0.4\n",
    "kp = 0.41 \n",
    "B = 0.3          # T\n",
    "J = 400          # A/cm²\n",
    "\n",
    "Ae = 0.6         # cm²\n",
    "Aw = 0.8         # cm²\n",
    "diam_nucleo = 1  # cm\n",
    "Sfio = 0.003255  # AWG22\n",
    "Sifio = 0.004013 # AWG22\n",
    "\n",
    "Ief = 0.5*np.sqrt(Io**2 + ((Vi**2)*(T**2)*(D**2)*((2*D-1)**2))/(48*L**2))\n",
    "\n",
    "AwAe = ((Po/2)*10**4)/(kt*kw*kp*J*B*2*fs)\n",
    "\n",
    "# Numero de espiras #\n",
    "Nespiras = round( ((Vo/2)*10**4)/(Ae*B*fs) )\n",
    "diametro = 2*( 7.5/np.sqrt(2*fs) )\n",
    "\n",
    "# Numero de fios #\n",
    "ST1 = Ief/J\n",
    "Nfios = round(ST1/Sfio) \n",
    "\n",
    "# Fator de ocupação #\n",
    "ku = 2*(Nfios*Nespiras*Sifio)/Aw\n",
    "\n",
    "# Comprimento do fio #\n",
    "lfio = 2*np.pi*diam_nucleo*0.01*Nfios*Nespiras\n",
    "\n",
    "print(\"Ief (trafo) = %f A\" % Ief)\n",
    "print(\"Aw.Ae = %f cm²\" % AwAe)\n",
    "print(\"Numero de espiras = %f espiras\" % Nespiras)\n",
    "print(\"Diametro do fio = %f cm\" % diametro)\n",
    "print(\"Numero de fios = %f fios\" % Nfios)\n",
    "\n",
    "print(\"Fator de ocupação = %.2f%%\" % (ku*100))\n",
    "\n",
    "print(\"Tamanho do fio = %f m\" % lfio)"
   ]
  }
 ],
 "metadata": {
  "kernelspec": {
   "display_name": "Python 3",
   "language": "python",
   "name": "python3"
  },
  "language_info": {
   "codemirror_mode": {
    "name": "ipython",
    "version": 3
   },
   "file_extension": ".py",
   "mimetype": "text/x-python",
   "name": "python",
   "nbconvert_exporter": "python",
   "pygments_lexer": "ipython3",
   "version": "3.7.4"
  }
 },
 "nbformat": 4,
 "nbformat_minor": 4
}
